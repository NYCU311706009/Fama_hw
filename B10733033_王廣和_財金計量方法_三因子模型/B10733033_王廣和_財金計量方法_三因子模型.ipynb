{
 "cells": [
  {
   "cell_type": "markdown",
   "metadata": {},
   "source": [
    "# 習題五"
   ]
  },
  {
   "cell_type": "markdown",
   "metadata": {},
   "source": [
    "## 匯入套件"
   ]
  },
  {
   "cell_type": "code",
   "execution_count": 3,
   "metadata": {},
   "outputs": [],
   "source": [
    "import pandas as pd\n",
    "import statsmodels.api as sm"
   ]
  },
  {
   "cell_type": "markdown",
   "metadata": {},
   "source": [
    "## 讀入資料"
   ]
  },
  {
   "cell_type": "markdown",
   "metadata": {},
   "source": [
    "### 兩家股票報酬率"
   ]
  },
  {
   "cell_type": "code",
   "execution_count": 4,
   "metadata": {},
   "outputs": [
    {
     "data": {
      "text/html": [
       "<div>\n",
       "<style scoped>\n",
       "    .dataframe tbody tr th:only-of-type {\n",
       "        vertical-align: middle;\n",
       "    }\n",
       "\n",
       "    .dataframe tbody tr th {\n",
       "        vertical-align: top;\n",
       "    }\n",
       "\n",
       "    .dataframe thead th {\n",
       "        text-align: right;\n",
       "    }\n",
       "</style>\n",
       "<table border=\"1\" class=\"dataframe\">\n",
       "  <thead>\n",
       "    <tr style=\"text-align: right;\">\n",
       "      <th></th>\n",
       "      <th>zhongxin</th>\n",
       "      <th>zyhy</th>\n",
       "      <th>Date</th>\n",
       "    </tr>\n",
       "  </thead>\n",
       "  <tbody>\n",
       "    <tr>\n",
       "      <td>0</td>\n",
       "      <td>3.87</td>\n",
       "      <td>3.51</td>\n",
       "      <td>2014-01-01</td>\n",
       "    </tr>\n",
       "    <tr>\n",
       "      <td>1</td>\n",
       "      <td>3.86</td>\n",
       "      <td>3.52</td>\n",
       "      <td>2014-01-02</td>\n",
       "    </tr>\n",
       "    <tr>\n",
       "      <td>2</td>\n",
       "      <td>3.80</td>\n",
       "      <td>3.35</td>\n",
       "      <td>2014-01-03</td>\n",
       "    </tr>\n",
       "    <tr>\n",
       "      <td>3</td>\n",
       "      <td>3.74</td>\n",
       "      <td>3.23</td>\n",
       "      <td>2014-01-06</td>\n",
       "    </tr>\n",
       "    <tr>\n",
       "      <td>4</td>\n",
       "      <td>3.73</td>\n",
       "      <td>3.20</td>\n",
       "      <td>2014-01-07</td>\n",
       "    </tr>\n",
       "  </tbody>\n",
       "</table>\n",
       "</div>"
      ],
      "text/plain": [
       "   zhongxin  zyhy        Date\n",
       "0      3.87  3.51  2014-01-01\n",
       "1      3.86  3.52  2014-01-02\n",
       "2      3.80  3.35  2014-01-03\n",
       "3      3.74  3.23  2014-01-06\n",
       "4      3.73  3.20  2014-01-07"
      ]
     },
     "execution_count": 4,
     "metadata": {},
     "output_type": "execute_result"
    }
   ],
   "source": [
    "df = pd.read_table(r'C:\\Users\\s0954\\Desktop\\財金計量方法\\Fama_hw-main\\B10733033_王廣和_財金計量方法_三因子模型\\problem21.txt')\n",
    "df.head(5)"
   ]
  },
  {
   "cell_type": "markdown",
   "metadata": {},
   "source": [
    "### 將日期設為index，方便與其他資料整合"
   ]
  },
  {
   "cell_type": "code",
   "execution_count": 5,
   "metadata": {},
   "outputs": [
    {
     "data": {
      "text/html": [
       "<div>\n",
       "<style scoped>\n",
       "    .dataframe tbody tr th:only-of-type {\n",
       "        vertical-align: middle;\n",
       "    }\n",
       "\n",
       "    .dataframe tbody tr th {\n",
       "        vertical-align: top;\n",
       "    }\n",
       "\n",
       "    .dataframe thead th {\n",
       "        text-align: right;\n",
       "    }\n",
       "</style>\n",
       "<table border=\"1\" class=\"dataframe\">\n",
       "  <thead>\n",
       "    <tr style=\"text-align: right;\">\n",
       "      <th></th>\n",
       "      <th>zhongxin</th>\n",
       "      <th>zyhy</th>\n",
       "      <th>Date</th>\n",
       "    </tr>\n",
       "    <tr>\n",
       "      <th>Date</th>\n",
       "      <th></th>\n",
       "      <th></th>\n",
       "      <th></th>\n",
       "    </tr>\n",
       "  </thead>\n",
       "  <tbody>\n",
       "    <tr>\n",
       "      <td>2014-01-01</td>\n",
       "      <td>3.87</td>\n",
       "      <td>3.51</td>\n",
       "      <td>2014-01-01</td>\n",
       "    </tr>\n",
       "    <tr>\n",
       "      <td>2014-01-02</td>\n",
       "      <td>3.86</td>\n",
       "      <td>3.52</td>\n",
       "      <td>2014-01-02</td>\n",
       "    </tr>\n",
       "    <tr>\n",
       "      <td>2014-01-03</td>\n",
       "      <td>3.80</td>\n",
       "      <td>3.35</td>\n",
       "      <td>2014-01-03</td>\n",
       "    </tr>\n",
       "    <tr>\n",
       "      <td>2014-01-06</td>\n",
       "      <td>3.74</td>\n",
       "      <td>3.23</td>\n",
       "      <td>2014-01-06</td>\n",
       "    </tr>\n",
       "    <tr>\n",
       "      <td>2014-01-07</td>\n",
       "      <td>3.73</td>\n",
       "      <td>3.20</td>\n",
       "      <td>2014-01-07</td>\n",
       "    </tr>\n",
       "  </tbody>\n",
       "</table>\n",
       "</div>"
      ],
      "text/plain": [
       "            zhongxin  zyhy        Date\n",
       "Date                                  \n",
       "2014-01-01      3.87  3.51  2014-01-01\n",
       "2014-01-02      3.86  3.52  2014-01-02\n",
       "2014-01-03      3.80  3.35  2014-01-03\n",
       "2014-01-06      3.74  3.23  2014-01-06\n",
       "2014-01-07      3.73  3.20  2014-01-07"
      ]
     },
     "execution_count": 5,
     "metadata": {},
     "output_type": "execute_result"
    }
   ],
   "source": [
    "df.index = pd.to_datetime(df.Date)\n",
    "df.head(5)"
   ]
  },
  {
   "cell_type": "markdown",
   "metadata": {},
   "source": [
    "### 中新(?)報酬率資料"
   ]
  },
  {
   "cell_type": "code",
   "execution_count": 6,
   "metadata": {},
   "outputs": [
    {
     "data": {
      "text/plain": [
       "Date\n",
       "2014-01-01    3.87\n",
       "2014-01-02    3.86\n",
       "2014-01-03    3.80\n",
       "2014-01-06    3.74\n",
       "2014-01-07    3.73\n",
       "Name: zhongxin, dtype: float64"
      ]
     },
     "execution_count": 6,
     "metadata": {},
     "output_type": "execute_result"
    }
   ],
   "source": [
    "zhongxin = df.iloc[:,0]\n",
    "zhongxin.head(5)"
   ]
  },
  {
   "cell_type": "markdown",
   "metadata": {},
   "source": [
    "### 中原海運報酬率資料"
   ]
  },
  {
   "cell_type": "code",
   "execution_count": 7,
   "metadata": {},
   "outputs": [
    {
     "data": {
      "text/plain": [
       "Date\n",
       "2014-01-01    3.51\n",
       "2014-01-02    3.52\n",
       "2014-01-03    3.35\n",
       "2014-01-06    3.23\n",
       "2014-01-07    3.20\n",
       "Name: zyhy, dtype: float64"
      ]
     },
     "execution_count": 7,
     "metadata": {},
     "output_type": "execute_result"
    }
   ],
   "source": [
    "zyhy = df.iloc[:,1]\n",
    "zyhy.head(5)"
   ]
  },
  {
   "cell_type": "markdown",
   "metadata": {},
   "source": [
    "### 三因子模型"
   ]
  },
  {
   "cell_type": "code",
   "execution_count": 8,
   "metadata": {},
   "outputs": [
    {
     "data": {
      "text/html": [
       "<div>\n",
       "<style scoped>\n",
       "    .dataframe tbody tr th:only-of-type {\n",
       "        vertical-align: middle;\n",
       "    }\n",
       "\n",
       "    .dataframe tbody tr th {\n",
       "        vertical-align: top;\n",
       "    }\n",
       "\n",
       "    .dataframe thead th {\n",
       "        text-align: right;\n",
       "    }\n",
       "</style>\n",
       "<table border=\"1\" class=\"dataframe\">\n",
       "  <thead>\n",
       "    <tr style=\"text-align: right;\">\n",
       "      <th></th>\n",
       "      <th>MarkettypeID</th>\n",
       "      <th>TradingDate</th>\n",
       "      <th>RiskPremium1</th>\n",
       "      <th>RiskPremium2</th>\n",
       "      <th>SMB1</th>\n",
       "      <th>SMB2</th>\n",
       "      <th>HML1</th>\n",
       "      <th>HML2</th>\n",
       "    </tr>\n",
       "  </thead>\n",
       "  <tbody>\n",
       "    <tr>\n",
       "      <td>0</td>\n",
       "      <td>P9710</td>\n",
       "      <td>1992/1/30</td>\n",
       "      <td>0.0098</td>\n",
       "      <td>0.0068</td>\n",
       "      <td>-0.000193</td>\n",
       "      <td>-0.003945</td>\n",
       "      <td>0.001878</td>\n",
       "      <td>0.001132</td>\n",
       "    </tr>\n",
       "    <tr>\n",
       "      <td>1</td>\n",
       "      <td>P9710</td>\n",
       "      <td>1992/1/31</td>\n",
       "      <td>0.0138</td>\n",
       "      <td>0.0098</td>\n",
       "      <td>0.007597</td>\n",
       "      <td>0.006065</td>\n",
       "      <td>-0.003275</td>\n",
       "      <td>-0.002141</td>\n",
       "    </tr>\n",
       "    <tr>\n",
       "      <td>2</td>\n",
       "      <td>P9710</td>\n",
       "      <td>1992/2/1</td>\n",
       "      <td>0.0058</td>\n",
       "      <td>0.0058</td>\n",
       "      <td>0.011516</td>\n",
       "      <td>0.009544</td>\n",
       "      <td>-0.006743</td>\n",
       "      <td>-0.006776</td>\n",
       "    </tr>\n",
       "    <tr>\n",
       "      <td>3</td>\n",
       "      <td>P9710</td>\n",
       "      <td>1992/2/2</td>\n",
       "      <td>0.0068</td>\n",
       "      <td>0.0068</td>\n",
       "      <td>0.002621</td>\n",
       "      <td>0.002467</td>\n",
       "      <td>0.004255</td>\n",
       "      <td>0.004255</td>\n",
       "    </tr>\n",
       "    <tr>\n",
       "      <td>4</td>\n",
       "      <td>P9710</td>\n",
       "      <td>1992/2/3</td>\n",
       "      <td>0.0058</td>\n",
       "      <td>0.0068</td>\n",
       "      <td>0.006923</td>\n",
       "      <td>0.007519</td>\n",
       "      <td>-0.009798</td>\n",
       "      <td>-0.009623</td>\n",
       "    </tr>\n",
       "  </tbody>\n",
       "</table>\n",
       "</div>"
      ],
      "text/plain": [
       "  MarkettypeID TradingDate  RiskPremium1  RiskPremium2      SMB1      SMB2  \\\n",
       "0        P9710   1992/1/30        0.0098        0.0068 -0.000193 -0.003945   \n",
       "1        P9710   1992/1/31        0.0138        0.0098  0.007597  0.006065   \n",
       "2        P9710    1992/2/1        0.0058        0.0058  0.011516  0.009544   \n",
       "3        P9710    1992/2/2        0.0068        0.0068  0.002621  0.002467   \n",
       "4        P9710    1992/2/3        0.0058        0.0068  0.006923  0.007519   \n",
       "\n",
       "       HML1      HML2  \n",
       "0  0.001878  0.001132  \n",
       "1 -0.003275 -0.002141  \n",
       "2 -0.006743 -0.006776  \n",
       "3  0.004255  0.004255  \n",
       "4 -0.009798 -0.009623  "
      ]
     },
     "execution_count": 8,
     "metadata": {},
     "output_type": "execute_result"
    }
   ],
   "source": [
    "df2 = pd.read_table(r'C:\\Users\\s0954\\Desktop\\財金計量方法\\Fama_hw-main\\B10733033_王廣和_財金計量方法_三因子模型\\ThreeFactors.txt')\n",
    "df2.head(5)"
   ]
  },
  {
   "cell_type": "markdown",
   "metadata": {},
   "source": [
    "### 將日期設為index，方便與其他資料整合"
   ]
  },
  {
   "cell_type": "code",
   "execution_count": 9,
   "metadata": {},
   "outputs": [
    {
     "data": {
      "text/html": [
       "<div>\n",
       "<style scoped>\n",
       "    .dataframe tbody tr th:only-of-type {\n",
       "        vertical-align: middle;\n",
       "    }\n",
       "\n",
       "    .dataframe tbody tr th {\n",
       "        vertical-align: top;\n",
       "    }\n",
       "\n",
       "    .dataframe thead th {\n",
       "        text-align: right;\n",
       "    }\n",
       "</style>\n",
       "<table border=\"1\" class=\"dataframe\">\n",
       "  <thead>\n",
       "    <tr style=\"text-align: right;\">\n",
       "      <th></th>\n",
       "      <th>MarkettypeID</th>\n",
       "      <th>TradingDate</th>\n",
       "      <th>RiskPremium1</th>\n",
       "      <th>RiskPremium2</th>\n",
       "      <th>SMB1</th>\n",
       "      <th>SMB2</th>\n",
       "      <th>HML1</th>\n",
       "      <th>HML2</th>\n",
       "    </tr>\n",
       "    <tr>\n",
       "      <th>TradingDate</th>\n",
       "      <th></th>\n",
       "      <th></th>\n",
       "      <th></th>\n",
       "      <th></th>\n",
       "      <th></th>\n",
       "      <th></th>\n",
       "      <th></th>\n",
       "      <th></th>\n",
       "    </tr>\n",
       "  </thead>\n",
       "  <tbody>\n",
       "    <tr>\n",
       "      <td>1992-01-30</td>\n",
       "      <td>P9710</td>\n",
       "      <td>1992/1/30</td>\n",
       "      <td>0.0098</td>\n",
       "      <td>0.0068</td>\n",
       "      <td>-0.000193</td>\n",
       "      <td>-0.003945</td>\n",
       "      <td>0.001878</td>\n",
       "      <td>0.001132</td>\n",
       "    </tr>\n",
       "    <tr>\n",
       "      <td>1992-01-31</td>\n",
       "      <td>P9710</td>\n",
       "      <td>1992/1/31</td>\n",
       "      <td>0.0138</td>\n",
       "      <td>0.0098</td>\n",
       "      <td>0.007597</td>\n",
       "      <td>0.006065</td>\n",
       "      <td>-0.003275</td>\n",
       "      <td>-0.002141</td>\n",
       "    </tr>\n",
       "    <tr>\n",
       "      <td>1992-02-01</td>\n",
       "      <td>P9710</td>\n",
       "      <td>1992/2/1</td>\n",
       "      <td>0.0058</td>\n",
       "      <td>0.0058</td>\n",
       "      <td>0.011516</td>\n",
       "      <td>0.009544</td>\n",
       "      <td>-0.006743</td>\n",
       "      <td>-0.006776</td>\n",
       "    </tr>\n",
       "    <tr>\n",
       "      <td>1992-02-02</td>\n",
       "      <td>P9710</td>\n",
       "      <td>1992/2/2</td>\n",
       "      <td>0.0068</td>\n",
       "      <td>0.0068</td>\n",
       "      <td>0.002621</td>\n",
       "      <td>0.002467</td>\n",
       "      <td>0.004255</td>\n",
       "      <td>0.004255</td>\n",
       "    </tr>\n",
       "    <tr>\n",
       "      <td>1992-02-03</td>\n",
       "      <td>P9710</td>\n",
       "      <td>1992/2/3</td>\n",
       "      <td>0.0058</td>\n",
       "      <td>0.0068</td>\n",
       "      <td>0.006923</td>\n",
       "      <td>0.007519</td>\n",
       "      <td>-0.009798</td>\n",
       "      <td>-0.009623</td>\n",
       "    </tr>\n",
       "  </tbody>\n",
       "</table>\n",
       "</div>"
      ],
      "text/plain": [
       "            MarkettypeID TradingDate  RiskPremium1  RiskPremium2      SMB1  \\\n",
       "TradingDate                                                                  \n",
       "1992-01-30         P9710   1992/1/30        0.0098        0.0068 -0.000193   \n",
       "1992-01-31         P9710   1992/1/31        0.0138        0.0098  0.007597   \n",
       "1992-02-01         P9710    1992/2/1        0.0058        0.0058  0.011516   \n",
       "1992-02-02         P9710    1992/2/2        0.0068        0.0068  0.002621   \n",
       "1992-02-03         P9710    1992/2/3        0.0058        0.0068  0.006923   \n",
       "\n",
       "                 SMB2      HML1      HML2  \n",
       "TradingDate                                \n",
       "1992-01-30  -0.003945  0.001878  0.001132  \n",
       "1992-01-31   0.006065 -0.003275 -0.002141  \n",
       "1992-02-01   0.009544 -0.006743 -0.006776  \n",
       "1992-02-02   0.002467  0.004255  0.004255  \n",
       "1992-02-03   0.007519 -0.009798 -0.009623  "
      ]
     },
     "execution_count": 9,
     "metadata": {},
     "output_type": "execute_result"
    }
   ],
   "source": [
    "df2.index = pd.to_datetime(df2.TradingDate)\n",
    "df2.head(5)"
   ]
  },
  {
   "cell_type": "code",
   "execution_count": 10,
   "metadata": {},
   "outputs": [],
   "source": [
    "df2.TradingDate = pd.to_datetime(df2.TradingDate)"
   ]
  },
  {
   "cell_type": "markdown",
   "metadata": {},
   "source": [
    "## 計算"
   ]
  },
  {
   "cell_type": "markdown",
   "metadata": {},
   "source": [
    "### 三因子公式\n",
    "\n",
    "## $ R_i-R_f = \\alpha + \\beta_0 \\space (R_{market}-R_{f} )  + \\beta_1 \\space (R_{small}-R_{big}) + \\beta_2 \\space (R_{high}-R_{low})$\n",
    "\n",
    "$個股報酬-無風險利率 = \\alpha(超額報酬) + \\beta_0 \\times 市場風險因子+ \\beta_1 \\times 公司規模 + \\beta_2 \\times 淨值因子$"
   ]
  },
  {
   "cell_type": "code",
   "execution_count": 11,
   "metadata": {},
   "outputs": [
    {
     "data": {
      "text/html": [
       "<div>\n",
       "<style scoped>\n",
       "    .dataframe tbody tr th:only-of-type {\n",
       "        vertical-align: middle;\n",
       "    }\n",
       "\n",
       "    .dataframe tbody tr th {\n",
       "        vertical-align: top;\n",
       "    }\n",
       "\n",
       "    .dataframe thead th {\n",
       "        text-align: right;\n",
       "    }\n",
       "</style>\n",
       "<table border=\"1\" class=\"dataframe\">\n",
       "  <thead>\n",
       "    <tr style=\"text-align: right;\">\n",
       "      <th></th>\n",
       "      <th>MarkettypeID</th>\n",
       "      <th>TradingDate</th>\n",
       "      <th>RiskPremium1</th>\n",
       "      <th>RiskPremium2</th>\n",
       "      <th>SMB1</th>\n",
       "      <th>SMB2</th>\n",
       "      <th>HML1</th>\n",
       "      <th>HML2</th>\n",
       "    </tr>\n",
       "    <tr>\n",
       "      <th>TradingDate</th>\n",
       "      <th></th>\n",
       "      <th></th>\n",
       "      <th></th>\n",
       "      <th></th>\n",
       "      <th></th>\n",
       "      <th></th>\n",
       "      <th></th>\n",
       "      <th></th>\n",
       "    </tr>\n",
       "  </thead>\n",
       "  <tbody>\n",
       "    <tr>\n",
       "      <td>2014-01-02</td>\n",
       "      <td>P9710</td>\n",
       "      <td>2014-01-02</td>\n",
       "      <td>-0.001081</td>\n",
       "      <td>0.000919</td>\n",
       "      <td>-0.017003</td>\n",
       "      <td>-0.014747</td>\n",
       "      <td>-0.017604</td>\n",
       "      <td>-0.019279</td>\n",
       "    </tr>\n",
       "    <tr>\n",
       "      <td>2014-01-03</td>\n",
       "      <td>P9710</td>\n",
       "      <td>2014-01-03</td>\n",
       "      <td>-0.010081</td>\n",
       "      <td>-0.009081</td>\n",
       "      <td>-0.008988</td>\n",
       "      <td>-0.005061</td>\n",
       "      <td>-0.013391</td>\n",
       "      <td>-0.015440</td>\n",
       "    </tr>\n",
       "    <tr>\n",
       "      <td>2014-01-06</td>\n",
       "      <td>P9710</td>\n",
       "      <td>2014-01-06</td>\n",
       "      <td>-0.018081</td>\n",
       "      <td>-0.020081</td>\n",
       "      <td>0.015599</td>\n",
       "      <td>0.015898</td>\n",
       "      <td>0.009912</td>\n",
       "      <td>0.009018</td>\n",
       "    </tr>\n",
       "    <tr>\n",
       "      <td>2014-01-07</td>\n",
       "      <td>P9710</td>\n",
       "      <td>2014-01-07</td>\n",
       "      <td>0.000919</td>\n",
       "      <td>0.001919</td>\n",
       "      <td>-0.008349</td>\n",
       "      <td>-0.007034</td>\n",
       "      <td>-0.014506</td>\n",
       "      <td>-0.015003</td>\n",
       "    </tr>\n",
       "    <tr>\n",
       "      <td>2014-01-08</td>\n",
       "      <td>P9710</td>\n",
       "      <td>2014-01-08</td>\n",
       "      <td>-0.000081</td>\n",
       "      <td>0.001919</td>\n",
       "      <td>-0.005764</td>\n",
       "      <td>-0.001121</td>\n",
       "      <td>-0.017683</td>\n",
       "      <td>-0.019687</td>\n",
       "    </tr>\n",
       "  </tbody>\n",
       "</table>\n",
       "</div>"
      ],
      "text/plain": [
       "            MarkettypeID TradingDate  RiskPremium1  RiskPremium2      SMB1  \\\n",
       "TradingDate                                                                  \n",
       "2014-01-02         P9710  2014-01-02     -0.001081      0.000919 -0.017003   \n",
       "2014-01-03         P9710  2014-01-03     -0.010081     -0.009081 -0.008988   \n",
       "2014-01-06         P9710  2014-01-06     -0.018081     -0.020081  0.015599   \n",
       "2014-01-07         P9710  2014-01-07      0.000919      0.001919 -0.008349   \n",
       "2014-01-08         P9710  2014-01-08     -0.000081      0.001919 -0.005764   \n",
       "\n",
       "                 SMB2      HML1      HML2  \n",
       "TradingDate                                \n",
       "2014-01-02  -0.014747 -0.017604 -0.019279  \n",
       "2014-01-03  -0.005061 -0.013391 -0.015440  \n",
       "2014-01-06   0.015898  0.009912  0.009018  \n",
       "2014-01-07  -0.007034 -0.014506 -0.015003  \n",
       "2014-01-08  -0.001121 -0.017683 -0.019687  "
      ]
     },
     "execution_count": 11,
     "metadata": {},
     "output_type": "execute_result"
    }
   ],
   "source": [
    "#過濾2014年的資料\n",
    "filter1 = df2['TradingDate'] >= \"2014-01-01\"\n",
    "filter2 = df2['TradingDate'] <= \"2014-12-31\"\n",
    "df2_2014 = df2[filter1 & filter2]\n",
    "df2_2014.head(5)"
   ]
  },
  {
   "cell_type": "markdown",
   "metadata": {},
   "source": [
    "### 中新的三因子表格合併"
   ]
  },
  {
   "cell_type": "code",
   "execution_count": 12,
   "metadata": {},
   "outputs": [
    {
     "data": {
      "text/html": [
       "<div>\n",
       "<style scoped>\n",
       "    .dataframe tbody tr th:only-of-type {\n",
       "        vertical-align: middle;\n",
       "    }\n",
       "\n",
       "    .dataframe tbody tr th {\n",
       "        vertical-align: top;\n",
       "    }\n",
       "\n",
       "    .dataframe thead th {\n",
       "        text-align: right;\n",
       "    }\n",
       "</style>\n",
       "<table border=\"1\" class=\"dataframe\">\n",
       "  <thead>\n",
       "    <tr style=\"text-align: right;\">\n",
       "      <th></th>\n",
       "      <th>zhongxin</th>\n",
       "      <th>RiskPremium1</th>\n",
       "      <th>SMB1</th>\n",
       "      <th>HML1</th>\n",
       "    </tr>\n",
       "  </thead>\n",
       "  <tbody>\n",
       "    <tr>\n",
       "      <td>2014-01-02</td>\n",
       "      <td>3.86</td>\n",
       "      <td>-0.001081</td>\n",
       "      <td>-0.017003</td>\n",
       "      <td>-0.017604</td>\n",
       "    </tr>\n",
       "    <tr>\n",
       "      <td>2014-01-03</td>\n",
       "      <td>3.80</td>\n",
       "      <td>-0.010081</td>\n",
       "      <td>-0.008988</td>\n",
       "      <td>-0.013391</td>\n",
       "    </tr>\n",
       "    <tr>\n",
       "      <td>2014-01-06</td>\n",
       "      <td>3.74</td>\n",
       "      <td>-0.018081</td>\n",
       "      <td>0.015599</td>\n",
       "      <td>0.009912</td>\n",
       "    </tr>\n",
       "    <tr>\n",
       "      <td>2014-01-07</td>\n",
       "      <td>3.73</td>\n",
       "      <td>0.000919</td>\n",
       "      <td>-0.008349</td>\n",
       "      <td>-0.014506</td>\n",
       "    </tr>\n",
       "    <tr>\n",
       "      <td>2014-01-08</td>\n",
       "      <td>3.74</td>\n",
       "      <td>-0.000081</td>\n",
       "      <td>-0.005764</td>\n",
       "      <td>-0.017683</td>\n",
       "    </tr>\n",
       "  </tbody>\n",
       "</table>\n",
       "</div>"
      ],
      "text/plain": [
       "            zhongxin  RiskPremium1      SMB1      HML1\n",
       "2014-01-02      3.86     -0.001081 -0.017003 -0.017604\n",
       "2014-01-03      3.80     -0.010081 -0.008988 -0.013391\n",
       "2014-01-06      3.74     -0.018081  0.015599  0.009912\n",
       "2014-01-07      3.73      0.000919 -0.008349 -0.014506\n",
       "2014-01-08      3.74     -0.000081 -0.005764 -0.017683"
      ]
     },
     "execution_count": 12,
     "metadata": {},
     "output_type": "execute_result"
    }
   ],
   "source": [
    "zhongxin_df = pd.concat([zhongxin,df2_2014['RiskPremium1'],df2_2014['SMB1'],df2_2014['HML1']],axis = 1)\n",
    "zhongxin_df= zhongxin_df.dropna(axis=0,how='any')\n",
    "zhongxin_df.head(5)"
   ]
  },
  {
   "cell_type": "code",
   "execution_count": 13,
   "metadata": {},
   "outputs": [
    {
     "name": "stderr",
     "output_type": "stream",
     "text": [
      "C:\\Users\\s0954\\Anaconda3\\lib\\site-packages\\numpy\\core\\fromnumeric.py:2389: FutureWarning: Method .ptp is deprecated and will be removed in a future version. Use numpy.ptp instead.\n",
      "  return ptp(axis=axis, out=out, **kwargs)\n"
     ]
    }
   ],
   "source": [
    "result1 = sm.OLS(zhongxin_df['zhongxin'],sm.add_constant(zhongxin_df[['RiskPremium1','SMB1','HML1']])).fit()"
   ]
  },
  {
   "cell_type": "code",
   "execution_count": 14,
   "metadata": {},
   "outputs": [
    {
     "name": "stdout",
     "output_type": "stream",
     "text": [
      "                            OLS Regression Results                            \n",
      "==============================================================================\n",
      "Dep. Variable:               zhongxin   R-squared:                       0.213\n",
      "Model:                            OLS   Adj. R-squared:                  0.204\n",
      "Method:                 Least Squares   F-statistic:                     21.80\n",
      "Date:                Sun, 02 May 2021   Prob (F-statistic):           1.58e-12\n",
      "Time:                        00:33:53   Log-Likelihood:                -267.62\n",
      "No. Observations:                 245   AIC:                             543.2\n",
      "Df Residuals:                     241   BIC:                             557.2\n",
      "Df Model:                           3                                         \n",
      "Covariance Type:            nonrobust                                         \n",
      "================================================================================\n",
      "                   coef    std err          t      P>|t|      [0.025      0.975]\n",
      "--------------------------------------------------------------------------------\n",
      "const            4.6904      0.047     99.706      0.000       4.598       4.783\n",
      "RiskPremium1     8.9308      4.319      2.068      0.040       0.424      17.438\n",
      "SMB1            37.9980      7.479      5.081      0.000      23.266      52.730\n",
      "HML1           -16.4894      7.828     -2.107      0.036     -31.909      -1.070\n",
      "==============================================================================\n",
      "Omnibus:                      110.790   Durbin-Watson:                   0.286\n",
      "Prob(Omnibus):                  0.000   Jarque-Bera (JB):              458.012\n",
      "Skew:                           1.867   Prob(JB):                    3.50e-100\n",
      "Kurtosis:                       8.561   Cond. No.                         227.\n",
      "==============================================================================\n",
      "\n",
      "Warnings:\n",
      "[1] Standard Errors assume that the covariance matrix of the errors is correctly specified.\n"
     ]
    }
   ],
   "source": [
    "print(result1.summary())"
   ]
  },
  {
   "cell_type": "markdown",
   "metadata": {},
   "source": [
    "### 結果\n",
    "\n",
    "$R_{zhongxin} = 4.6904 + 8.9308\\space Market Risk Premium+37.9980\\space Size Factor-16.4894\\space BookToMarket Factor $\n",
    "\n",
    "**There's no data about risk-free"
   ]
  },
  {
   "cell_type": "markdown",
   "metadata": {},
   "source": [
    "### 中原海運的三因子表格合併"
   ]
  },
  {
   "cell_type": "code",
   "execution_count": 15,
   "metadata": {},
   "outputs": [
    {
     "data": {
      "text/html": [
       "<div>\n",
       "<style scoped>\n",
       "    .dataframe tbody tr th:only-of-type {\n",
       "        vertical-align: middle;\n",
       "    }\n",
       "\n",
       "    .dataframe tbody tr th {\n",
       "        vertical-align: top;\n",
       "    }\n",
       "\n",
       "    .dataframe thead th {\n",
       "        text-align: right;\n",
       "    }\n",
       "</style>\n",
       "<table border=\"1\" class=\"dataframe\">\n",
       "  <thead>\n",
       "    <tr style=\"text-align: right;\">\n",
       "      <th></th>\n",
       "      <th>zyhy</th>\n",
       "      <th>RiskPremium2</th>\n",
       "      <th>SMB2</th>\n",
       "      <th>HML2</th>\n",
       "    </tr>\n",
       "  </thead>\n",
       "  <tbody>\n",
       "    <tr>\n",
       "      <td>2014-01-02</td>\n",
       "      <td>3.52</td>\n",
       "      <td>0.000919</td>\n",
       "      <td>-0.014747</td>\n",
       "      <td>-0.019279</td>\n",
       "    </tr>\n",
       "    <tr>\n",
       "      <td>2014-01-03</td>\n",
       "      <td>3.35</td>\n",
       "      <td>-0.009081</td>\n",
       "      <td>-0.005061</td>\n",
       "      <td>-0.015440</td>\n",
       "    </tr>\n",
       "    <tr>\n",
       "      <td>2014-01-06</td>\n",
       "      <td>3.23</td>\n",
       "      <td>-0.020081</td>\n",
       "      <td>0.015898</td>\n",
       "      <td>0.009018</td>\n",
       "    </tr>\n",
       "    <tr>\n",
       "      <td>2014-01-07</td>\n",
       "      <td>3.20</td>\n",
       "      <td>0.001919</td>\n",
       "      <td>-0.007034</td>\n",
       "      <td>-0.015003</td>\n",
       "    </tr>\n",
       "    <tr>\n",
       "      <td>2014-01-08</td>\n",
       "      <td>3.17</td>\n",
       "      <td>0.001919</td>\n",
       "      <td>-0.001121</td>\n",
       "      <td>-0.019687</td>\n",
       "    </tr>\n",
       "  </tbody>\n",
       "</table>\n",
       "</div>"
      ],
      "text/plain": [
       "            zyhy  RiskPremium2      SMB2      HML2\n",
       "2014-01-02  3.52      0.000919 -0.014747 -0.019279\n",
       "2014-01-03  3.35     -0.009081 -0.005061 -0.015440\n",
       "2014-01-06  3.23     -0.020081  0.015898  0.009018\n",
       "2014-01-07  3.20      0.001919 -0.007034 -0.015003\n",
       "2014-01-08  3.17      0.001919 -0.001121 -0.019687"
      ]
     },
     "execution_count": 15,
     "metadata": {},
     "output_type": "execute_result"
    }
   ],
   "source": [
    "zyhy_df = pd.concat([zyhy,df2_2014['RiskPremium2'],df2_2014['SMB2'],df2_2014['HML2']],axis = 1)\n",
    "zyhy_df = zyhy_df.dropna(axis=0,how='any')\n",
    "zyhy_df.head(5)"
   ]
  },
  {
   "cell_type": "code",
   "execution_count": 16,
   "metadata": {},
   "outputs": [],
   "source": [
    "result2 = sm.OLS(zyhy_df['zyhy'],sm.add_constant(zyhy_df[['RiskPremium2','SMB2','HML2']])).fit()"
   ]
  },
  {
   "cell_type": "code",
   "execution_count": 17,
   "metadata": {},
   "outputs": [
    {
     "name": "stdout",
     "output_type": "stream",
     "text": [
      "                            OLS Regression Results                            \n",
      "==============================================================================\n",
      "Dep. Variable:                   zyhy   R-squared:                       0.136\n",
      "Model:                            OLS   Adj. R-squared:                  0.125\n",
      "Method:                 Least Squares   F-statistic:                     12.60\n",
      "Date:                Sun, 02 May 2021   Prob (F-statistic):           1.11e-07\n",
      "Time:                        00:33:54   Log-Likelihood:                -367.42\n",
      "No. Observations:                 245   AIC:                             742.8\n",
      "Df Residuals:                     241   BIC:                             756.8\n",
      "Df Model:                           3                                         \n",
      "Covariance Type:            nonrobust                                         \n",
      "================================================================================\n",
      "                   coef    std err          t      P>|t|      [0.025      0.975]\n",
      "--------------------------------------------------------------------------------\n",
      "const            3.7480      0.071     53.055      0.000       3.609       3.887\n",
      "RiskPremium2    15.2256      6.504      2.341      0.020       2.414      28.037\n",
      "SMB2            39.7967     11.507      3.458      0.001      17.129      62.464\n",
      "HML2           -10.8848     10.864     -1.002      0.317     -32.285      10.515\n",
      "==============================================================================\n",
      "Omnibus:                      136.530   Durbin-Watson:                   0.218\n",
      "Prob(Omnibus):                  0.000   Jarque-Bera (JB):              687.688\n",
      "Skew:                           2.308   Prob(JB):                    4.68e-150\n",
      "Kurtosis:                       9.787   Cond. No.                         220.\n",
      "==============================================================================\n",
      "\n",
      "Warnings:\n",
      "[1] Standard Errors assume that the covariance matrix of the errors is correctly specified.\n"
     ]
    }
   ],
   "source": [
    "print(result2.summary())"
   ]
  },
  {
   "cell_type": "markdown",
   "metadata": {},
   "source": [
    "### 結果\n",
    "\n",
    "$R_{zyhy} = 3.7480 + 15.2256\\space Market Risk Premium+39.7967\\space Size Factor$\n",
    "\n",
    "**BookToMarket Factor is not statistically significant\n",
    "\n",
    "**There's no data about risk-free"
   ]
  },
  {
   "cell_type": "markdown",
   "metadata": {},
   "source": [
    "# 習題六"
   ]
  },
  {
   "cell_type": "code",
   "execution_count": 18,
   "metadata": {},
   "outputs": [
    {
     "data": {
      "text/html": [
       "<div>\n",
       "<style scoped>\n",
       "    .dataframe tbody tr th:only-of-type {\n",
       "        vertical-align: middle;\n",
       "    }\n",
       "\n",
       "    .dataframe tbody tr th {\n",
       "        vertical-align: top;\n",
       "    }\n",
       "\n",
       "    .dataframe thead th {\n",
       "        text-align: right;\n",
       "    }\n",
       "</style>\n",
       "<table border=\"1\" class=\"dataframe\">\n",
       "  <thead>\n",
       "    <tr style=\"text-align: right;\">\n",
       "      <th></th>\n",
       "      <th>Date</th>\n",
       "      <th>Date.1</th>\n",
       "      <th>Close</th>\n",
       "      <th>Open</th>\n",
       "      <th>High</th>\n",
       "      <th>Low</th>\n",
       "      <th>Volume</th>\n",
       "      <th>ROI</th>\n",
       "    </tr>\n",
       "  </thead>\n",
       "  <tbody>\n",
       "    <tr>\n",
       "      <td>0</td>\n",
       "      <td>2014-01-02</td>\n",
       "      <td>2014-01-02</td>\n",
       "      <td>137.58</td>\n",
       "      <td>140.56</td>\n",
       "      <td>141.06</td>\n",
       "      <td>137.09</td>\n",
       "      <td>7964</td>\n",
       "      <td>-1.7730</td>\n",
       "    </tr>\n",
       "    <tr>\n",
       "      <td>1</td>\n",
       "      <td>2014-01-03</td>\n",
       "      <td>2014-01-03</td>\n",
       "      <td>137.58</td>\n",
       "      <td>137.58</td>\n",
       "      <td>140.07</td>\n",
       "      <td>137.09</td>\n",
       "      <td>6599</td>\n",
       "      <td>0.0000</td>\n",
       "    </tr>\n",
       "    <tr>\n",
       "      <td>2</td>\n",
       "      <td>2014-01-06</td>\n",
       "      <td>2014-01-06</td>\n",
       "      <td>132.62</td>\n",
       "      <td>137.58</td>\n",
       "      <td>138.58</td>\n",
       "      <td>132.12</td>\n",
       "      <td>14005</td>\n",
       "      <td>-3.6101</td>\n",
       "    </tr>\n",
       "    <tr>\n",
       "      <td>3</td>\n",
       "      <td>2014-01-07</td>\n",
       "      <td>2014-01-07</td>\n",
       "      <td>130.13</td>\n",
       "      <td>131.62</td>\n",
       "      <td>132.62</td>\n",
       "      <td>128.64</td>\n",
       "      <td>13705</td>\n",
       "      <td>-1.8727</td>\n",
       "    </tr>\n",
       "    <tr>\n",
       "      <td>4</td>\n",
       "      <td>2014-01-08</td>\n",
       "      <td>2014-01-08</td>\n",
       "      <td>129.14</td>\n",
       "      <td>130.13</td>\n",
       "      <td>131.62</td>\n",
       "      <td>129.14</td>\n",
       "      <td>7623</td>\n",
       "      <td>-0.7634</td>\n",
       "    </tr>\n",
       "  </tbody>\n",
       "</table>\n",
       "</div>"
      ],
      "text/plain": [
       "         Date      Date.1   Close    Open    High     Low  Volume     ROI\n",
       "0  2014-01-02  2014-01-02  137.58  140.56  141.06  137.09    7964 -1.7730\n",
       "1  2014-01-03  2014-01-03  137.58  137.58  140.07  137.09    6599  0.0000\n",
       "2  2014-01-06  2014-01-06  132.62  137.58  138.58  132.12   14005 -3.6101\n",
       "3  2014-01-07  2014-01-07  130.13  131.62  132.62  128.64   13705 -1.8727\n",
       "4  2014-01-08  2014-01-08  129.14  130.13  131.62  129.14    7623 -0.7634"
      ]
     },
     "execution_count": 18,
     "metadata": {},
     "output_type": "execute_result"
    }
   ],
   "source": [
    "df3 = pd.read_csv(r'C:\\Users\\s0954\\Desktop\\財金計量方法\\Fama_hw-main\\B10733033_王廣和_財金計量方法_三因子模型\\2498.csv')\n",
    "df3.head(5)"
   ]
  },
  {
   "cell_type": "markdown",
   "metadata": {},
   "source": [
    "註:這邊直接取用ROI \n",
    "\n",
    "# $ROI = \\frac{Close_{t}-Close_{t-1}}{Close_{t-1}}$"
   ]
  },
  {
   "cell_type": "code",
   "execution_count": 19,
   "metadata": {},
   "outputs": [
    {
     "data": {
      "text/html": [
       "<div>\n",
       "<style scoped>\n",
       "    .dataframe tbody tr th:only-of-type {\n",
       "        vertical-align: middle;\n",
       "    }\n",
       "\n",
       "    .dataframe tbody tr th {\n",
       "        vertical-align: top;\n",
       "    }\n",
       "\n",
       "    .dataframe thead th {\n",
       "        text-align: right;\n",
       "    }\n",
       "</style>\n",
       "<table border=\"1\" class=\"dataframe\">\n",
       "  <thead>\n",
       "    <tr style=\"text-align: right;\">\n",
       "      <th></th>\n",
       "      <th>Date</th>\n",
       "      <th>Date.1</th>\n",
       "      <th>Close</th>\n",
       "      <th>Open</th>\n",
       "      <th>High</th>\n",
       "      <th>Low</th>\n",
       "      <th>Volume</th>\n",
       "      <th>ROI</th>\n",
       "    </tr>\n",
       "    <tr>\n",
       "      <th>Date</th>\n",
       "      <th></th>\n",
       "      <th></th>\n",
       "      <th></th>\n",
       "      <th></th>\n",
       "      <th></th>\n",
       "      <th></th>\n",
       "      <th></th>\n",
       "      <th></th>\n",
       "    </tr>\n",
       "  </thead>\n",
       "  <tbody>\n",
       "    <tr>\n",
       "      <td>2014-01-02</td>\n",
       "      <td>2014-01-02</td>\n",
       "      <td>2014-01-02</td>\n",
       "      <td>137.58</td>\n",
       "      <td>140.56</td>\n",
       "      <td>141.06</td>\n",
       "      <td>137.09</td>\n",
       "      <td>7964</td>\n",
       "      <td>-1.7730</td>\n",
       "    </tr>\n",
       "    <tr>\n",
       "      <td>2014-01-03</td>\n",
       "      <td>2014-01-03</td>\n",
       "      <td>2014-01-03</td>\n",
       "      <td>137.58</td>\n",
       "      <td>137.58</td>\n",
       "      <td>140.07</td>\n",
       "      <td>137.09</td>\n",
       "      <td>6599</td>\n",
       "      <td>0.0000</td>\n",
       "    </tr>\n",
       "    <tr>\n",
       "      <td>2014-01-06</td>\n",
       "      <td>2014-01-06</td>\n",
       "      <td>2014-01-06</td>\n",
       "      <td>132.62</td>\n",
       "      <td>137.58</td>\n",
       "      <td>138.58</td>\n",
       "      <td>132.12</td>\n",
       "      <td>14005</td>\n",
       "      <td>-3.6101</td>\n",
       "    </tr>\n",
       "    <tr>\n",
       "      <td>2014-01-07</td>\n",
       "      <td>2014-01-07</td>\n",
       "      <td>2014-01-07</td>\n",
       "      <td>130.13</td>\n",
       "      <td>131.62</td>\n",
       "      <td>132.62</td>\n",
       "      <td>128.64</td>\n",
       "      <td>13705</td>\n",
       "      <td>-1.8727</td>\n",
       "    </tr>\n",
       "    <tr>\n",
       "      <td>2014-01-08</td>\n",
       "      <td>2014-01-08</td>\n",
       "      <td>2014-01-08</td>\n",
       "      <td>129.14</td>\n",
       "      <td>130.13</td>\n",
       "      <td>131.62</td>\n",
       "      <td>129.14</td>\n",
       "      <td>7623</td>\n",
       "      <td>-0.7634</td>\n",
       "    </tr>\n",
       "  </tbody>\n",
       "</table>\n",
       "</div>"
      ],
      "text/plain": [
       "                 Date      Date.1   Close    Open    High     Low  Volume  \\\n",
       "Date                                                                        \n",
       "2014-01-02 2014-01-02  2014-01-02  137.58  140.56  141.06  137.09    7964   \n",
       "2014-01-03 2014-01-03  2014-01-03  137.58  137.58  140.07  137.09    6599   \n",
       "2014-01-06 2014-01-06  2014-01-06  132.62  137.58  138.58  132.12   14005   \n",
       "2014-01-07 2014-01-07  2014-01-07  130.13  131.62  132.62  128.64   13705   \n",
       "2014-01-08 2014-01-08  2014-01-08  129.14  130.13  131.62  129.14    7623   \n",
       "\n",
       "               ROI  \n",
       "Date                \n",
       "2014-01-02 -1.7730  \n",
       "2014-01-03  0.0000  \n",
       "2014-01-06 -3.6101  \n",
       "2014-01-07 -1.8727  \n",
       "2014-01-08 -0.7634  "
      ]
     },
     "execution_count": 19,
     "metadata": {},
     "output_type": "execute_result"
    }
   ],
   "source": [
    "df3.index = pd.to_datetime(df3.Date)\n",
    "df3.Date = pd.to_datetime(df3.Date)\n",
    "df3.head(5)"
   ]
  },
  {
   "cell_type": "code",
   "execution_count": 20,
   "metadata": {},
   "outputs": [
    {
     "data": {
      "text/html": [
       "<div>\n",
       "<style scoped>\n",
       "    .dataframe tbody tr th:only-of-type {\n",
       "        vertical-align: middle;\n",
       "    }\n",
       "\n",
       "    .dataframe tbody tr th {\n",
       "        vertical-align: top;\n",
       "    }\n",
       "\n",
       "    .dataframe thead th {\n",
       "        text-align: right;\n",
       "    }\n",
       "</style>\n",
       "<table border=\"1\" class=\"dataframe\">\n",
       "  <thead>\n",
       "    <tr style=\"text-align: right;\">\n",
       "      <th></th>\n",
       "      <th>ROI</th>\n",
       "      <th>RiskPremium</th>\n",
       "      <th>SMB</th>\n",
       "      <th>HML</th>\n",
       "    </tr>\n",
       "  </thead>\n",
       "  <tbody>\n",
       "    <tr>\n",
       "      <td>2014-01-02</td>\n",
       "      <td>-1.7730</td>\n",
       "      <td>-0.000081</td>\n",
       "      <td>-0.015875</td>\n",
       "      <td>-0.018441</td>\n",
       "    </tr>\n",
       "    <tr>\n",
       "      <td>2014-01-03</td>\n",
       "      <td>0.0000</td>\n",
       "      <td>-0.009581</td>\n",
       "      <td>-0.007024</td>\n",
       "      <td>-0.014416</td>\n",
       "    </tr>\n",
       "    <tr>\n",
       "      <td>2014-01-06</td>\n",
       "      <td>-3.6101</td>\n",
       "      <td>-0.019081</td>\n",
       "      <td>0.015748</td>\n",
       "      <td>0.009465</td>\n",
       "    </tr>\n",
       "    <tr>\n",
       "      <td>2014-01-07</td>\n",
       "      <td>-1.8727</td>\n",
       "      <td>0.001419</td>\n",
       "      <td>-0.007691</td>\n",
       "      <td>-0.014755</td>\n",
       "    </tr>\n",
       "    <tr>\n",
       "      <td>2014-01-08</td>\n",
       "      <td>-0.7634</td>\n",
       "      <td>0.000919</td>\n",
       "      <td>-0.003443</td>\n",
       "      <td>-0.018685</td>\n",
       "    </tr>\n",
       "  </tbody>\n",
       "</table>\n",
       "</div>"
      ],
      "text/plain": [
       "               ROI  RiskPremium       SMB       HML\n",
       "2014-01-02 -1.7730    -0.000081 -0.015875 -0.018441\n",
       "2014-01-03  0.0000    -0.009581 -0.007024 -0.014416\n",
       "2014-01-06 -3.6101    -0.019081  0.015748  0.009465\n",
       "2014-01-07 -1.8727     0.001419 -0.007691 -0.014755\n",
       "2014-01-08 -0.7634     0.000919 -0.003443 -0.018685"
      ]
     },
     "execution_count": 20,
     "metadata": {},
     "output_type": "execute_result"
    }
   ],
   "source": [
    "df_2498 = pd.concat([df3['ROI'],\n",
    "                     (df2_2014['RiskPremium1']+df2_2014['RiskPremium2'])/2,\n",
    "                     (df2_2014['SMB1']+df2_2014['SMB2'])/2,\n",
    "                     (df2_2014['HML1']+df2_2014['HML2'])/2\n",
    "                    ],axis = 1)\n",
    "df_2498 = df_2498.dropna(axis=0,how='any')\n",
    "df_2498.columns= ['ROI','RiskPremium','SMB','HML']\n",
    "df_2498.head(5)"
   ]
  },
  {
   "cell_type": "code",
   "execution_count": 26,
   "metadata": {},
   "outputs": [
    {
     "name": "stdout",
     "output_type": "stream",
     "text": [
      "                            OLS Regression Results                            \n",
      "==============================================================================\n",
      "Dep. Variable:                    ROI   R-squared:                       0.019\n",
      "Model:                            OLS   Adj. R-squared:                  0.007\n",
      "Method:                 Least Squares   F-statistic:                     1.519\n",
      "Date:                Sun, 02 May 2021   Prob (F-statistic):              0.210\n",
      "Time:                        00:36:01   Log-Likelihood:                -506.41\n",
      "No. Observations:                 238   AIC:                             1021.\n",
      "Df Residuals:                     234   BIC:                             1035.\n",
      "Df Model:                           3                                         \n",
      "Covariance Type:            nonrobust                                         \n",
      "===============================================================================\n",
      "                  coef    std err          t      P>|t|      [0.025      0.975]\n",
      "-------------------------------------------------------------------------------\n",
      "const          -0.0136      0.134     -0.101      0.920      -0.278       0.251\n",
      "RiskPremium    26.0059     12.239      2.125      0.035       1.893      50.118\n",
      "SMB            -9.9903     21.801     -0.458      0.647     -52.941      32.960\n",
      "HML             6.6328     21.773      0.305      0.761     -36.263      49.528\n",
      "==============================================================================\n",
      "Omnibus:                       15.567   Durbin-Watson:                   2.197\n",
      "Prob(Omnibus):                  0.000   Jarque-Bera (JB):               24.053\n",
      "Skew:                           0.410   Prob(JB):                     5.98e-06\n",
      "Kurtosis:                       4.324   Cond. No.                         226.\n",
      "==============================================================================\n",
      "\n",
      "Warnings:\n",
      "[1] Standard Errors assume that the covariance matrix of the errors is correctly specified.\n"
     ]
    },
    {
     "name": "stderr",
     "output_type": "stream",
     "text": [
      "C:\\Users\\s0954\\Anaconda3\\lib\\site-packages\\numpy\\core\\fromnumeric.py:2389: FutureWarning: Method .ptp is deprecated and will be removed in a future version. Use numpy.ptp instead.\n",
      "  return ptp(axis=axis, out=out, **kwargs)\n"
     ]
    }
   ],
   "source": [
    "#2498三因子模型\n",
    "result3 = sm.OLS(df_2498['ROI'],sm.add_constant(df_2498[['RiskPremium','SMB','HML']])).fit()\n",
    "print(result3.summary())"
   ]
  },
  {
   "cell_type": "code",
   "execution_count": 28,
   "metadata": {},
   "outputs": [
    {
     "data": {
      "text/plain": [
       "const          -0.013582\n",
       "RiskPremium    26.005860\n",
       "SMB            -9.990303\n",
       "HML             6.632819\n",
       "dtype: float64"
      ]
     },
     "execution_count": 28,
     "metadata": {},
     "output_type": "execute_result"
    }
   ],
   "source": [
    "result3.params"
   ]
  },
  {
   "cell_type": "code",
   "execution_count": 32,
   "metadata": {},
   "outputs": [
    {
     "data": {
      "text/html": [
       "<div>\n",
       "<style scoped>\n",
       "    .dataframe tbody tr th:only-of-type {\n",
       "        vertical-align: middle;\n",
       "    }\n",
       "\n",
       "    .dataframe tbody tr th {\n",
       "        vertical-align: top;\n",
       "    }\n",
       "\n",
       "    .dataframe thead th {\n",
       "        text-align: right;\n",
       "    }\n",
       "</style>\n",
       "<table border=\"1\" class=\"dataframe\">\n",
       "  <thead>\n",
       "    <tr style=\"text-align: right;\">\n",
       "      <th></th>\n",
       "      <th>MarkettypeID</th>\n",
       "      <th>TradingDate</th>\n",
       "      <th>RiskPremium1</th>\n",
       "      <th>RiskPremium2</th>\n",
       "      <th>SMB1</th>\n",
       "      <th>SMB2</th>\n",
       "      <th>HML1</th>\n",
       "      <th>HML2</th>\n",
       "    </tr>\n",
       "    <tr>\n",
       "      <th>TradingDate</th>\n",
       "      <th></th>\n",
       "      <th></th>\n",
       "      <th></th>\n",
       "      <th></th>\n",
       "      <th></th>\n",
       "      <th></th>\n",
       "      <th></th>\n",
       "      <th></th>\n",
       "    </tr>\n",
       "  </thead>\n",
       "  <tbody>\n",
       "    <tr>\n",
       "      <td>2015-01-05</td>\n",
       "      <td>P9710</td>\n",
       "      <td>2015-01-05</td>\n",
       "      <td>0.033926</td>\n",
       "      <td>0.030926</td>\n",
       "      <td>0.037147</td>\n",
       "      <td>0.032969</td>\n",
       "      <td>0.033216</td>\n",
       "      <td>0.036105</td>\n",
       "    </tr>\n",
       "    <tr>\n",
       "      <td>2015-01-06</td>\n",
       "      <td>P9710</td>\n",
       "      <td>2015-01-06</td>\n",
       "      <td>0.002926</td>\n",
       "      <td>0.004926</td>\n",
       "      <td>-0.021998</td>\n",
       "      <td>-0.018519</td>\n",
       "      <td>-0.023558</td>\n",
       "      <td>-0.025566</td>\n",
       "    </tr>\n",
       "    <tr>\n",
       "      <td>2015-01-07</td>\n",
       "      <td>P9710</td>\n",
       "      <td>2015-01-07</td>\n",
       "      <td>0.002926</td>\n",
       "      <td>0.002926</td>\n",
       "      <td>0.007548</td>\n",
       "      <td>0.006314</td>\n",
       "      <td>0.005183</td>\n",
       "      <td>0.005311</td>\n",
       "    </tr>\n",
       "    <tr>\n",
       "      <td>2015-01-08</td>\n",
       "      <td>P9710</td>\n",
       "      <td>2015-01-08</td>\n",
       "      <td>-0.022074</td>\n",
       "      <td>-0.019074</td>\n",
       "      <td>-0.025485</td>\n",
       "      <td>-0.022480</td>\n",
       "      <td>-0.029721</td>\n",
       "      <td>-0.031789</td>\n",
       "    </tr>\n",
       "    <tr>\n",
       "      <td>2015-01-09</td>\n",
       "      <td>P9710</td>\n",
       "      <td>2015-01-09</td>\n",
       "      <td>-0.002074</td>\n",
       "      <td>-0.002074</td>\n",
       "      <td>0.007416</td>\n",
       "      <td>0.007961</td>\n",
       "      <td>0.002365</td>\n",
       "      <td>0.001750</td>\n",
       "    </tr>\n",
       "  </tbody>\n",
       "</table>\n",
       "</div>"
      ],
      "text/plain": [
       "            MarkettypeID TradingDate  RiskPremium1  RiskPremium2      SMB1  \\\n",
       "TradingDate                                                                  \n",
       "2015-01-05         P9710  2015-01-05      0.033926      0.030926  0.037147   \n",
       "2015-01-06         P9710  2015-01-06      0.002926      0.004926 -0.021998   \n",
       "2015-01-07         P9710  2015-01-07      0.002926      0.002926  0.007548   \n",
       "2015-01-08         P9710  2015-01-08     -0.022074     -0.019074 -0.025485   \n",
       "2015-01-09         P9710  2015-01-09     -0.002074     -0.002074  0.007416   \n",
       "\n",
       "                 SMB2      HML1      HML2  \n",
       "TradingDate                                \n",
       "2015-01-05   0.032969  0.033216  0.036105  \n",
       "2015-01-06  -0.018519 -0.023558 -0.025566  \n",
       "2015-01-07   0.006314  0.005183  0.005311  \n",
       "2015-01-08  -0.022480 -0.029721 -0.031789  \n",
       "2015-01-09   0.007961  0.002365  0.001750  "
      ]
     },
     "execution_count": 32,
     "metadata": {},
     "output_type": "execute_result"
    }
   ],
   "source": [
    "#過濾2015年的資料\n",
    "filter3 = df2['TradingDate'] >= \"2015-01-01\"\n",
    "filter4 = df2['TradingDate'] <= \"2015-01-31\"\n",
    "df_2015 = df2[filter3 & filter4]\n",
    "df_2015.head(5)"
   ]
  },
  {
   "cell_type": "code",
   "execution_count": 40,
   "metadata": {},
   "outputs": [],
   "source": [
    "RP_2015 = (df_2015['RiskPremium1']+df_2015['RiskPremium2'])/2\n",
    "SMB_2015 = (df_2015['SMB1']+df_2015['SMB2'])/2\n",
    "HML_2015 = (df_2015['HML1']+df_2015['HML2'])/2"
   ]
  },
  {
   "cell_type": "code",
   "execution_count": 42,
   "metadata": {},
   "outputs": [],
   "source": [
    "a,b1,b2,b3 = result3.params"
   ]
  },
  {
   "cell_type": "code",
   "execution_count": 43,
   "metadata": {},
   "outputs": [
    {
     "data": {
      "text/plain": [
       "TradingDate\n",
       "2015-01-05    0.709341\n",
       "2015-01-06    0.127991\n",
       "2015-01-07    0.028071\n",
       "2015-01-08   -0.513026\n",
       "2015-01-09   -0.130681\n",
       "2015-01-12   -0.614656\n",
       "2015-01-13    0.167182\n",
       "2015-01-14   -0.056077\n",
       "2015-01-15    0.698264\n",
       "2015-01-16    0.246169\n",
       "2015-01-19   -1.706403\n",
       "2015-01-20    0.573877\n",
       "2015-01-21    1.054758\n",
       "2015-01-22    0.172720\n",
       "2015-01-23   -0.046286\n",
       "2015-01-26    0.434991\n",
       "2015-01-27   -0.188071\n",
       "2015-01-28   -0.234587\n",
       "2015-01-29   -0.282689\n",
       "2015-01-30   -0.328223\n",
       "dtype: float64"
      ]
     },
     "execution_count": 43,
     "metadata": {},
     "output_type": "execute_result"
    }
   ],
   "source": [
    "y = a+b1*RP_2015+b2*SMB_2015+b3*HML_2015\n",
    "y"
   ]
  },
  {
   "cell_type": "markdown",
   "metadata": {},
   "source": [
    "### 結果\n",
    "\n",
    "$R_{2498} = 26.0059\\space MarketRiskPremium$\n",
    "\n",
    "**There's no data about risk-free\n",
    "\n",
    "**Neither Size Factor nor BookToMarket Factor is not statistically significant"
   ]
  },
  {
   "cell_type": "code",
   "execution_count": 22,
   "metadata": {},
   "outputs": [
    {
     "name": "stdout",
     "output_type": "stream",
     "text": [
      "                            OLS Regression Results                            \n",
      "==============================================================================\n",
      "Dep. Variable:                    ROI   R-squared:                       0.018\n",
      "Model:                            OLS   Adj. R-squared:                  0.014\n",
      "Method:                 Least Squares   F-statistic:                     4.329\n",
      "Date:                Sun, 02 May 2021   Prob (F-statistic):             0.0385\n",
      "Time:                        00:33:55   Log-Likelihood:                -506.54\n",
      "No. Observations:                 238   AIC:                             1017.\n",
      "Df Residuals:                     236   BIC:                             1024.\n",
      "Df Model:                           1                                         \n",
      "Covariance Type:            nonrobust                                         \n",
      "===============================================================================\n",
      "                  coef    std err          t      P>|t|      [0.025      0.975]\n",
      "-------------------------------------------------------------------------------\n",
      "const          -0.0150      0.134     -0.112      0.911      -0.279       0.249\n",
      "RiskPremium    25.0934     12.060      2.081      0.039       1.334      48.853\n",
      "==============================================================================\n",
      "Omnibus:                       15.309   Durbin-Watson:                   2.194\n",
      "Prob(Omnibus):                  0.000   Jarque-Bera (JB):               23.415\n",
      "Skew:                           0.407   Prob(JB):                     8.23e-06\n",
      "Kurtosis:                       4.303   Cond. No.                         91.1\n",
      "==============================================================================\n",
      "\n",
      "Warnings:\n",
      "[1] Standard Errors assume that the covariance matrix of the errors is correctly specified.\n"
     ]
    }
   ],
   "source": [
    "#2498CAPM模型\n",
    "result3_1 = sm.OLS(df_2498['ROI'],sm.add_constant(df_2498[['RiskPremium']])).fit()\n",
    "print(result3_1.summary())"
   ]
  },
  {
   "cell_type": "markdown",
   "metadata": {},
   "source": [
    "### 結果\n",
    "\n",
    "$R_{2498} = 25.0934\\space MarketRiskPremium$\n",
    "\n",
    "**There's no data about risk-free"
   ]
  },
  {
   "cell_type": "code",
   "execution_count": 45,
   "metadata": {},
   "outputs": [],
   "source": [
    "c,d1 = result3_1.params"
   ]
  },
  {
   "cell_type": "code",
   "execution_count": 46,
   "metadata": {},
   "outputs": [
    {
     "data": {
      "text/plain": [
       "TradingDate\n",
       "2015-01-05    0.798632\n",
       "2015-01-06    0.083470\n",
       "2015-01-07    0.058376\n",
       "2015-01-08   -0.531320\n",
       "2015-01-09   -0.067091\n",
       "2015-01-12   -0.380759\n",
       "2015-01-13    0.096016\n",
       "2015-01-14   -0.092185\n",
       "2015-01-15    0.748446\n",
       "2015-01-16    0.296764\n",
       "2015-01-19   -1.785991\n",
       "2015-01-20    0.522605\n",
       "2015-01-21    1.099754\n",
       "2015-01-22    0.146203\n",
       "2015-01-23   -0.029451\n",
       "2015-01-26    0.560245\n",
       "2015-01-27   -0.205105\n",
       "2015-01-28   -0.330572\n",
       "2015-01-29   -0.305479\n",
       "2015-01-30   -0.368212\n",
       "dtype: float64"
      ]
     },
     "execution_count": 46,
     "metadata": {},
     "output_type": "execute_result"
    }
   ],
   "source": [
    "y2 = c +d1*RP_2015\n",
    "y2"
   ]
  },
  {
   "cell_type": "code",
   "execution_count": 50,
   "metadata": {},
   "outputs": [
    {
     "name": "stdout",
     "output_type": "stream",
     "text": [
      "<class 'pandas.core.frame.DataFrame'>\n",
      "DatetimeIndex: 20 entries, 2015-01-05 to 2015-01-30\n",
      "Data columns (total 2 columns):\n",
      "0    20 non-null float64\n",
      "1    20 non-null float64\n",
      "dtypes: float64(2)\n",
      "memory usage: 480.0 bytes\n"
     ]
    }
   ],
   "source": [
    "predict = pd.concat([y,y2],axis=1)\n"
   ]
  },
  {
   "cell_type": "code",
   "execution_count": 51,
   "metadata": {},
   "outputs": [],
   "source": [
    "from scipy import stats"
   ]
  },
  {
   "cell_type": "code",
   "execution_count": 52,
   "metadata": {},
   "outputs": [
    {
     "data": {
      "text/plain": [
       "DescribeResult(nobs=20, minmax=(array([-1.70640307, -1.78599139]), array([1.05475799, 1.09975366])), mean=array([0.00563324, 0.01571726]), variance=array([0.34789154, 0.37524649]), skewness=array([-0.88388027, -0.88195965]), kurtosis=array([1.88249214, 2.07807346]))"
      ]
     },
     "execution_count": 52,
     "metadata": {},
     "output_type": "execute_result"
    }
   ],
   "source": [
    "stats.describe(predict)"
   ]
  },
  {
   "cell_type": "code",
   "execution_count": null,
   "metadata": {},
   "outputs": [],
   "source": []
  }
 ],
 "metadata": {
  "kernelspec": {
   "display_name": "Python 3",
   "language": "python",
   "name": "python3"
  },
  "language_info": {
   "codemirror_mode": {
    "name": "ipython",
    "version": 3
   },
   "file_extension": ".py",
   "mimetype": "text/x-python",
   "name": "python",
   "nbconvert_exporter": "python",
   "pygments_lexer": "ipython3",
   "version": "3.7.4"
  }
 },
 "nbformat": 4,
 "nbformat_minor": 2
}
